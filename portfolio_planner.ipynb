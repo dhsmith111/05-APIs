{
 "cells": [
  {
   "cell_type": "markdown",
   "metadata": {},
   "source": [
    "# Retirement Planner\n",
    "\n",
    "---\n",
    "\n",
    "## Environment Setup"
   ]
  },
  {
   "cell_type": "code",
   "execution_count": 1,
   "metadata": {},
   "outputs": [],
   "source": [
    "# Import libraries and dependencies\n",
    "import numpy as np\n",
    "import pandas as pd\n",
    "import os\n",
    "from datetime import datetime, timedelta\n",
    "import matplotlib.pyplot as plt\n",
    "import alpaca_trade_api as tradeapi\n",
    "%matplotlib inline"
   ]
  },
  {
   "cell_type": "code",
   "execution_count": 2,
   "metadata": {},
   "outputs": [],
   "source": [
    "# Set the random seed for resutls reproducibility (for testing purposes only)\n",
    "np.random.seed(42)"
   ]
  },
  {
   "cell_type": "markdown",
   "metadata": {},
   "source": [
    "---\n",
    "\n",
    "## Portfolio Planner\n",
    "\n",
    "In this activity, you will use the Alpaca API to grab historical data for a `60/40` portfolio using `SPY` to represent the stock portion and `AGG` to represent the bonds."
   ]
  },
  {
   "cell_type": "code",
   "execution_count": 3,
   "metadata": {},
   "outputs": [],
   "source": [
    "# Load .env enviroment variables\n",
    "from dotenv import load_dotenv\n",
    "# Set environment variables from the .env file\n",
    "env_abs_path = 'C:/Users/danie/.env'    # System specific absolute path for .env\n",
    "load_dotenv(dotenv_path=env_abs_path)\n",
    "\n",
    "# Set Alpaca API key and secret\n",
    "alpaca_api_key = os.getenv(\"ALPACA_API_KEY\")\n",
    "alpaca_secret_key = os.getenv(\"ALPACA_SECRET_KEY\")\n",
    "\n",
    "# Create the Alpaca API object\n",
    "api = tradeapi.REST(\n",
    "    alpaca_api_key,\n",
    "    alpaca_secret_key,\n",
    "    api_version=\"v2\")"
   ]
  },
  {
   "cell_type": "markdown",
   "metadata": {},
   "source": [
    "# Data Collection\n",
    "\n",
    "In this step, you will need to use the Alpaca api to fetch closing prices for the `SPY` and `AGG` tickers. Save the results as a pandas DataFrame"
   ]
  },
  {
   "cell_type": "code",
   "execution_count": 4,
   "metadata": {},
   "outputs": [],
   "source": [
    "# Subset your tickers, then pull returns data:\n",
    "# Set the ticker\n",
    "ticker = [\"SPY\", \"AGG\"]\n",
    "\n",
    "# Set timeframe to '1D'\n",
    "timeframe = \"1D\"\n",
    "\n",
    "# Set start and end datetimes of 1 year, between now and 365 days ago.\n",
    "start_date = pd.Timestamp('2019-01-01', tz='America/New_York').isoformat()\n",
    "end_date = pd.Timestamp('2019-12-31', tz='America/New_York').isoformat()\n",
    "\n",
    "# Get 1 year's worth of historical data for SPY and AGG\n",
    "df = api.get_barset(\n",
    "    ticker,\n",
    "    timeframe,\n",
    "    limit=None,\n",
    "    start=start_date,\n",
    "    end=end_date,\n",
    "    after=None,\n",
    "    until=None,\n",
    ").df\n",
    "\n",
    "# Drop unnecessary columns\n",
    "df = df.drop(\n",
    "    columns=['open', 'high', 'low', 'volume'],\n",
    "    level=1\n",
    ")\n",
    "\n",
    "# Rename Columns\n",
    "df.columns = ['AGG','SPY']"
   ]
  },
  {
   "cell_type": "code",
   "execution_count": 5,
   "metadata": {},
   "outputs": [
    {
     "data": {
      "text/html": [
       "<div>\n",
       "<style scoped>\n",
       "    .dataframe tbody tr th:only-of-type {\n",
       "        vertical-align: middle;\n",
       "    }\n",
       "\n",
       "    .dataframe tbody tr th {\n",
       "        vertical-align: top;\n",
       "    }\n",
       "\n",
       "    .dataframe thead th {\n",
       "        text-align: right;\n",
       "    }\n",
       "</style>\n",
       "<table border=\"1\" class=\"dataframe\">\n",
       "  <thead>\n",
       "    <tr style=\"text-align: right;\">\n",
       "      <th></th>\n",
       "      <th>AGG</th>\n",
       "      <th>SPY</th>\n",
       "    </tr>\n",
       "  </thead>\n",
       "  <tbody>\n",
       "    <tr>\n",
       "      <th>2019-01-02 00:00:00-05:00</th>\n",
       "      <td>106.585</td>\n",
       "      <td>249.89</td>\n",
       "    </tr>\n",
       "    <tr>\n",
       "      <th>2019-01-03 00:00:00-05:00</th>\n",
       "      <td>107.020</td>\n",
       "      <td>244.46</td>\n",
       "    </tr>\n",
       "    <tr>\n",
       "      <th>2019-01-04 00:00:00-05:00</th>\n",
       "      <td>106.695</td>\n",
       "      <td>252.41</td>\n",
       "    </tr>\n",
       "    <tr>\n",
       "      <th>2019-01-07 00:00:00-05:00</th>\n",
       "      <td>106.470</td>\n",
       "      <td>254.40</td>\n",
       "    </tr>\n",
       "    <tr>\n",
       "      <th>2019-01-08 00:00:00-05:00</th>\n",
       "      <td>106.420</td>\n",
       "      <td>256.65</td>\n",
       "    </tr>\n",
       "  </tbody>\n",
       "</table>\n",
       "</div>"
      ],
      "text/plain": [
       "                               AGG     SPY\n",
       "2019-01-02 00:00:00-05:00  106.585  249.89\n",
       "2019-01-03 00:00:00-05:00  107.020  244.46\n",
       "2019-01-04 00:00:00-05:00  106.695  252.41\n",
       "2019-01-07 00:00:00-05:00  106.470  254.40\n",
       "2019-01-08 00:00:00-05:00  106.420  256.65"
      ]
     },
     "execution_count": 5,
     "metadata": {},
     "output_type": "execute_result"
    }
   ],
   "source": [
    "# Display sample data\n",
    "df.head()"
   ]
  },
  {
   "cell_type": "markdown",
   "metadata": {},
   "source": [
    "---\n",
    "\n",
    "## Monte Carlo Simulation\n",
    "\n",
    "In this step, you will run Monte Carlo Simulations for your portfolio to model portfolio performance at different retirement ages. \n",
    "\n",
    "Complete the following steps:\n",
    "\n",
    "1. Calculate the daily returns for the SPY and AGG closing prices.\n",
    "\n",
    "2. Calculate volatility for both the SPY and AGG closing prices.\n",
    "\n",
    "3. Find the last day's closing price for both stocks and save those as variables\n",
    "\n",
    "4. Run a Monte Carlo Simulation of at least `100` iterations and generate at least `30` years of closing prices\n",
    "\n",
    "**Hint:** There are `252` trading days per year, so the number of records to generate for each Monte Carlo run will be `252 days * 30 years`."
   ]
  },
  {
   "cell_type": "code",
   "execution_count": 6,
   "metadata": {},
   "outputs": [
    {
     "data": {
      "text/html": [
       "<div>\n",
       "<style scoped>\n",
       "    .dataframe tbody tr th:only-of-type {\n",
       "        vertical-align: middle;\n",
       "    }\n",
       "\n",
       "    .dataframe tbody tr th {\n",
       "        vertical-align: top;\n",
       "    }\n",
       "\n",
       "    .dataframe thead th {\n",
       "        text-align: right;\n",
       "    }\n",
       "</style>\n",
       "<table border=\"1\" class=\"dataframe\">\n",
       "  <thead>\n",
       "    <tr style=\"text-align: right;\">\n",
       "      <th></th>\n",
       "      <th>AGG</th>\n",
       "      <th>SPY</th>\n",
       "    </tr>\n",
       "  </thead>\n",
       "  <tbody>\n",
       "    <tr>\n",
       "      <th>2019-01-03 00:00:00-05:00</th>\n",
       "      <td>0.004081</td>\n",
       "      <td>-0.021730</td>\n",
       "    </tr>\n",
       "    <tr>\n",
       "      <th>2019-01-04 00:00:00-05:00</th>\n",
       "      <td>-0.003037</td>\n",
       "      <td>0.032521</td>\n",
       "    </tr>\n",
       "    <tr>\n",
       "      <th>2019-01-07 00:00:00-05:00</th>\n",
       "      <td>-0.002109</td>\n",
       "      <td>0.007884</td>\n",
       "    </tr>\n",
       "    <tr>\n",
       "      <th>2019-01-08 00:00:00-05:00</th>\n",
       "      <td>-0.000470</td>\n",
       "      <td>0.008844</td>\n",
       "    </tr>\n",
       "    <tr>\n",
       "      <th>2019-01-09 00:00:00-05:00</th>\n",
       "      <td>0.000564</td>\n",
       "      <td>0.004130</td>\n",
       "    </tr>\n",
       "  </tbody>\n",
       "</table>\n",
       "</div>"
      ],
      "text/plain": [
       "                                AGG       SPY\n",
       "2019-01-03 00:00:00-05:00  0.004081 -0.021730\n",
       "2019-01-04 00:00:00-05:00 -0.003037  0.032521\n",
       "2019-01-07 00:00:00-05:00 -0.002109  0.007884\n",
       "2019-01-08 00:00:00-05:00 -0.000470  0.008844\n",
       "2019-01-09 00:00:00-05:00  0.000564  0.004130"
      ]
     },
     "execution_count": 6,
     "metadata": {},
     "output_type": "execute_result"
    }
   ],
   "source": [
    "# Calculate the daily roi for the stocks\n",
    "daily_returns = df.pct_change()\n",
    "\n",
    "# Display sample data\n",
    "daily_returns.dropna().head() # dropna for display"
   ]
  },
  {
   "cell_type": "code",
   "execution_count": 7,
   "metadata": {},
   "outputs": [
    {
     "data": {
      "text/plain": [
       "(0.002089826211646555, 0.007820053413439366)"
      ]
     },
     "execution_count": 7,
     "metadata": {},
     "output_type": "execute_result"
    }
   ],
   "source": [
    "# Compute daily volatility\n",
    "agg_stddev_daily = daily_returns.std()['AGG']\n",
    "spy_stddev_daily = daily_returns.std()['SPY']\n",
    "\n",
    "agg_stddev_daily,spy_stddev_daily"
   ]
  },
  {
   "cell_type": "code",
   "execution_count": 8,
   "metadata": {},
   "outputs": [
    {
     "data": {
      "text/plain": [
       "(0.00021277231473764173, 0.0010401250682146959)"
      ]
     },
     "execution_count": 8,
     "metadata": {},
     "output_type": "execute_result"
    }
   ],
   "source": [
    "# Calculate avg daily returns\n",
    "agg_avg_daily = daily_returns.mean()['AGG']\n",
    "spy_avg_daily = daily_returns.mean()['SPY']\n",
    "\n",
    "agg_avg_daily,spy_avg_daily"
   ]
  },
  {
   "cell_type": "code",
   "execution_count": 9,
   "metadata": {},
   "outputs": [
    {
     "data": {
      "text/plain": [
       "(112.37, 321.92)"
      ]
     },
     "execution_count": 9,
     "metadata": {},
     "output_type": "execute_result"
    }
   ],
   "source": [
    "# Save the last day's closing price\n",
    "agg_last_close = df['AGG'][-1]\n",
    "spy_last_close = df['SPY'][-1]\n",
    "\n",
    "agg_last_close,spy_last_close"
   ]
  },
  {
   "cell_type": "code",
   "execution_count": 10,
   "metadata": {},
   "outputs": [],
   "source": [
    "# Setup the Monte Carlo Parameters\n",
    "number_simulations = 500\n",
    "number_records = 252 * 30\n",
    "monte_carlo = pd.DataFrame()\n",
    "\n",
    "# Initialize df for portfolio cumulative returns\n",
    "portfolio_cum_returns = pd.DataFrame()"
   ]
  },
  {
   "cell_type": "code",
   "execution_count": 11,
   "metadata": {},
   "outputs": [],
   "source": [
    "# Run the Monte Carlo Simulation\n",
    "\n",
    "# loop through price projection, incrementing through number_simlutations: 500\n",
    "for n in range(number_simulations):\n",
    "    \n",
    "    # set intial simulated price in list variable for each stock to the stocks last close price\n",
    "    agg_simulated_prices = [agg_last_close]\n",
    "    spy_simulated_prices = [spy_last_close]\n",
    "\n",
    "    # loop through num_records to process for 252 days * 30 years\n",
    "    for i in range(number_records):\n",
    "        \n",
    "        # calculate each simulated stock price for current trading day iteration\n",
    "        agg_simulated_price = agg_simulated_prices[-1] * (1 + np.random.normal(agg_avg_daily, agg_stddev_daily))\n",
    "        spy_simulated_price = spy_simulated_prices[-1] * (1 + np.random.normal(spy_avg_daily, spy_stddev_daily))\n",
    "        \n",
    "        # append each simulated price to each price list\n",
    "        agg_simulated_prices.append(agg_simulated_price)\n",
    "        spy_simulated_prices.append(spy_simulated_price)\n",
    "    \n",
    "    # Append the simulated prices of each stock price to the monty_carlo df\n",
    "    monte_carlo['AGG'] = pd.Series(agg_simulated_prices)\n",
    "    monte_carlo['SPY'] = pd.Series(spy_simulated_prices)\n",
    "\n",
    "    # calculate daily returns of the simulated prices\n",
    "    simulated_daily_returns = monte_carlo.pct_change()\n",
    "\n",
    "    # set weights for the two stock portfolio\n",
    "    weights = [0.4, 0.6]  # AGG=0.4 and SPY=0.6, in that order\n",
    "    \n",
    "    # calculate weighted returns of the portfolio with dot function\n",
    "    weighted_daily_returns = simulated_daily_returns.dot(weights)\n",
    "\n",
    "    # calculate cumulative returns from weighted daily returns\n",
    "    portfolio_cum_returns[n] = (1 + weighted_daily_returns.fillna(0)).cumprod()"
   ]
  },
  {
   "cell_type": "code",
   "execution_count": 12,
   "metadata": {},
   "outputs": [
    {
     "data": {
      "text/html": [
       "<div>\n",
       "<style scoped>\n",
       "    .dataframe tbody tr th:only-of-type {\n",
       "        vertical-align: middle;\n",
       "    }\n",
       "\n",
       "    .dataframe tbody tr th {\n",
       "        vertical-align: top;\n",
       "    }\n",
       "\n",
       "    .dataframe thead th {\n",
       "        text-align: right;\n",
       "    }\n",
       "</style>\n",
       "<table border=\"1\" class=\"dataframe\">\n",
       "  <thead>\n",
       "    <tr style=\"text-align: right;\">\n",
       "      <th></th>\n",
       "      <th>0</th>\n",
       "      <th>1</th>\n",
       "      <th>2</th>\n",
       "      <th>3</th>\n",
       "      <th>4</th>\n",
       "      <th>5</th>\n",
       "      <th>6</th>\n",
       "      <th>7</th>\n",
       "      <th>8</th>\n",
       "      <th>9</th>\n",
       "      <th>...</th>\n",
       "      <th>490</th>\n",
       "      <th>491</th>\n",
       "      <th>492</th>\n",
       "      <th>493</th>\n",
       "      <th>494</th>\n",
       "      <th>495</th>\n",
       "      <th>496</th>\n",
       "      <th>497</th>\n",
       "      <th>498</th>\n",
       "      <th>499</th>\n",
       "    </tr>\n",
       "  </thead>\n",
       "  <tbody>\n",
       "    <tr>\n",
       "      <th>0</th>\n",
       "      <td>1.000000</td>\n",
       "      <td>1.000000</td>\n",
       "      <td>1.000000</td>\n",
       "      <td>1.000000</td>\n",
       "      <td>1.000000</td>\n",
       "      <td>1.000000</td>\n",
       "      <td>1.000000</td>\n",
       "      <td>1.000000</td>\n",
       "      <td>1.000000</td>\n",
       "      <td>1.000000</td>\n",
       "      <td>...</td>\n",
       "      <td>1.000000</td>\n",
       "      <td>1.000000</td>\n",
       "      <td>1.000000</td>\n",
       "      <td>1.000000</td>\n",
       "      <td>1.000000</td>\n",
       "      <td>1.000000</td>\n",
       "      <td>1.000000</td>\n",
       "      <td>1.000000</td>\n",
       "      <td>1.000000</td>\n",
       "      <td>1.000000</td>\n",
       "    </tr>\n",
       "    <tr>\n",
       "      <th>1</th>\n",
       "      <td>1.000476</td>\n",
       "      <td>1.000536</td>\n",
       "      <td>0.998808</td>\n",
       "      <td>1.005394</td>\n",
       "      <td>1.011797</td>\n",
       "      <td>0.994452</td>\n",
       "      <td>0.997251</td>\n",
       "      <td>1.013277</td>\n",
       "      <td>1.000869</td>\n",
       "      <td>0.995376</td>\n",
       "      <td>...</td>\n",
       "      <td>1.002066</td>\n",
       "      <td>0.992709</td>\n",
       "      <td>1.001801</td>\n",
       "      <td>1.002671</td>\n",
       "      <td>0.996472</td>\n",
       "      <td>1.003160</td>\n",
       "      <td>1.001638</td>\n",
       "      <td>1.006800</td>\n",
       "      <td>0.998173</td>\n",
       "      <td>0.994765</td>\n",
       "    </tr>\n",
       "    <tr>\n",
       "      <th>2</th>\n",
       "      <td>1.008876</td>\n",
       "      <td>1.004699</td>\n",
       "      <td>1.003590</td>\n",
       "      <td>0.996711</td>\n",
       "      <td>1.009571</td>\n",
       "      <td>0.994247</td>\n",
       "      <td>0.994214</td>\n",
       "      <td>1.007199</td>\n",
       "      <td>1.000225</td>\n",
       "      <td>0.993036</td>\n",
       "      <td>...</td>\n",
       "      <td>1.005759</td>\n",
       "      <td>0.994517</td>\n",
       "      <td>1.003317</td>\n",
       "      <td>1.006181</td>\n",
       "      <td>0.997472</td>\n",
       "      <td>0.991774</td>\n",
       "      <td>1.002764</td>\n",
       "      <td>1.005408</td>\n",
       "      <td>0.996137</td>\n",
       "      <td>0.998871</td>\n",
       "    </tr>\n",
       "    <tr>\n",
       "      <th>3</th>\n",
       "      <td>1.008286</td>\n",
       "      <td>1.004228</td>\n",
       "      <td>1.003770</td>\n",
       "      <td>0.998232</td>\n",
       "      <td>1.007751</td>\n",
       "      <td>0.987669</td>\n",
       "      <td>0.998229</td>\n",
       "      <td>1.001361</td>\n",
       "      <td>1.000230</td>\n",
       "      <td>1.001279</td>\n",
       "      <td>...</td>\n",
       "      <td>1.006771</td>\n",
       "      <td>0.988444</td>\n",
       "      <td>1.004118</td>\n",
       "      <td>1.010565</td>\n",
       "      <td>0.993293</td>\n",
       "      <td>0.994454</td>\n",
       "      <td>1.008272</td>\n",
       "      <td>0.999144</td>\n",
       "      <td>0.998656</td>\n",
       "      <td>1.003328</td>\n",
       "    </tr>\n",
       "    <tr>\n",
       "      <th>4</th>\n",
       "      <td>1.013963</td>\n",
       "      <td>1.006575</td>\n",
       "      <td>1.008493</td>\n",
       "      <td>1.002636</td>\n",
       "      <td>1.013664</td>\n",
       "      <td>0.990972</td>\n",
       "      <td>1.003241</td>\n",
       "      <td>0.995491</td>\n",
       "      <td>1.002048</td>\n",
       "      <td>1.006036</td>\n",
       "      <td>...</td>\n",
       "      <td>1.004196</td>\n",
       "      <td>0.992123</td>\n",
       "      <td>1.004724</td>\n",
       "      <td>1.004423</td>\n",
       "      <td>0.994844</td>\n",
       "      <td>0.993782</td>\n",
       "      <td>1.005722</td>\n",
       "      <td>1.002248</td>\n",
       "      <td>0.996964</td>\n",
       "      <td>1.004095</td>\n",
       "    </tr>\n",
       "  </tbody>\n",
       "</table>\n",
       "<p>5 rows × 500 columns</p>\n",
       "</div>"
      ],
      "text/plain": [
       "        0         1         2         3         4         5         6    \\\n",
       "0  1.000000  1.000000  1.000000  1.000000  1.000000  1.000000  1.000000   \n",
       "1  1.000476  1.000536  0.998808  1.005394  1.011797  0.994452  0.997251   \n",
       "2  1.008876  1.004699  1.003590  0.996711  1.009571  0.994247  0.994214   \n",
       "3  1.008286  1.004228  1.003770  0.998232  1.007751  0.987669  0.998229   \n",
       "4  1.013963  1.006575  1.008493  1.002636  1.013664  0.990972  1.003241   \n",
       "\n",
       "        7         8         9    ...       490       491       492       493  \\\n",
       "0  1.000000  1.000000  1.000000  ...  1.000000  1.000000  1.000000  1.000000   \n",
       "1  1.013277  1.000869  0.995376  ...  1.002066  0.992709  1.001801  1.002671   \n",
       "2  1.007199  1.000225  0.993036  ...  1.005759  0.994517  1.003317  1.006181   \n",
       "3  1.001361  1.000230  1.001279  ...  1.006771  0.988444  1.004118  1.010565   \n",
       "4  0.995491  1.002048  1.006036  ...  1.004196  0.992123  1.004724  1.004423   \n",
       "\n",
       "        494       495       496       497       498       499  \n",
       "0  1.000000  1.000000  1.000000  1.000000  1.000000  1.000000  \n",
       "1  0.996472  1.003160  1.001638  1.006800  0.998173  0.994765  \n",
       "2  0.997472  0.991774  1.002764  1.005408  0.996137  0.998871  \n",
       "3  0.993293  0.994454  1.008272  0.999144  0.998656  1.003328  \n",
       "4  0.994844  0.993782  1.005722  1.002248  0.996964  1.004095  \n",
       "\n",
       "[5 rows x 500 columns]"
      ]
     },
     "execution_count": 12,
     "metadata": {},
     "output_type": "execute_result"
    }
   ],
   "source": [
    "# Check that the simulation ran successfully\n",
    "portfolio_cum_returns.head()"
   ]
  },
  {
   "cell_type": "code",
   "execution_count": 13,
   "metadata": {},
   "outputs": [
    {
     "data": {
      "text/plain": [
       "<matplotlib.axes._subplots.AxesSubplot at 0x1e416702fc8>"
      ]
     },
     "execution_count": 13,
     "metadata": {},
     "output_type": "execute_result"
    },
    {
     "data": {
      "image/png": "[encoded data removed]",
      "text/plain": [
       "<Figure size 432x288 with 1 Axes>"
      ]
     },
     "metadata": {
      "needs_background": "light"
     },
     "output_type": "display_data"
    }
   ],
   "source": [
    "# Visualize the Simulation\n",
    "title = f\"{number_simulations} Monte Carlo Portfolio Return Simulations Over {int(number_records/252)} Years\"\n",
    "portfolio_cum_returns.plot(legend=None, title=title,xlim=(0,7500))"
   ]
  },
  {
   "cell_type": "code",
   "execution_count": 14,
   "metadata": {},
   "outputs": [
    {
     "data": {
      "text/plain": [
       "0    192.773859\n",
       "1    171.964137\n",
       "2    177.998514\n",
       "3    138.466715\n",
       "4    175.628015\n",
       "Name: 7560, dtype: float64"
      ]
     },
     "execution_count": 14,
     "metadata": {},
     "output_type": "execute_result"
    }
   ],
   "source": [
    "# Select the last row for the cumulative returns (cumulative returns at 20 years)\n",
    "end_cum_returns = portfolio_cum_returns.iloc[-1, :]\n",
    "end_cum_returns.head()"
   ]
  },
  {
   "cell_type": "code",
   "execution_count": 15,
   "metadata": {},
   "outputs": [],
   "source": [
    "# Select the last row for the cumulative returns (cumulative returns at 20 years)\n",
    "# duplicate of above"
   ]
  },
  {
   "cell_type": "code",
   "execution_count": 16,
   "metadata": {},
   "outputs": [
    {
     "data": {
      "text/plain": [
       "0.05    102.825606\n",
       "0.95    379.341808\n",
       "Name: 7560, dtype: float64"
      ]
     },
     "execution_count": 16,
     "metadata": {},
     "output_type": "execute_result"
    }
   ],
   "source": [
    "# Display the 90% confidence interval for the ending returns\n",
    "# use quantile to calculate 90% confidence level\n",
    "confidence_interval = end_cum_returns.quantile(q=[0.05, 0.95])\n",
    "\n",
    "confidence_interval"
   ]
  },
  {
   "cell_type": "code",
   "execution_count": 17,
   "metadata": {},
   "outputs": [
    {
     "data": {
      "text/plain": [
       "<matplotlib.lines.Line2D at 0x1e41a7feb48>"
      ]
     },
     "execution_count": 17,
     "metadata": {},
     "output_type": "execute_result"
    },
    {
     "data": {
      "image/png": "[encoded data removed]",
      "text/plain": [
       "<Figure size 432x288 with 1 Axes>"
      ]
     },
     "metadata": {
      "needs_background": "light"
     },
     "output_type": "display_data"
    }
   ],
   "source": [
    "# Visualize the distribution of the ending returns\n",
    "# plot probability distribution of final cumulative returns (simulated) with 90% confidence interval\n",
    "plt.figure();\n",
    "end_cum_returns.plot(kind='hist', title='Distribution of Returns w/ 90% confidence interval',bins=50)\n",
    "plt.axvline(confidence_interval.iloc[0], color='r')\n",
    "plt.axvline(confidence_interval.iloc[1], color='r')"
   ]
  },
  {
   "cell_type": "markdown",
   "metadata": {},
   "source": [
    "---"
   ]
  },
  {
   "cell_type": "markdown",
   "metadata": {},
   "source": [
    "## Retirement Analysis\n",
    "\n",
    "In this section, you will use the monte carlo model to answer the following retirement planning questions:\n",
    "\n",
    "1. What are the expected cumulative returns at `30` years for the `10th`, `50th`, and `90th` percentiles?\n",
    "\n",
    "2. Given an initial investment of `$20,000`, what is the expected return in dollars at the `10th`, `50th`, and `90th` percentiles?\n",
    "\n",
    "3. Given the current projected annual income from the Plaid analysis, will a `4%` withdrawal rate meet or exceed that value at the `10th` percentile? Note: This is basically determining if retirement income is equivalent to current income.\n",
    "\n",
    "4. How would a `50%` increase in the initial investment amount affect the `4%` retirement withdrawal? In other words, what happens if the initial investment had been bigger?"
   ]
  },
  {
   "cell_type": "markdown",
   "metadata": {},
   "source": [
    "### What are the expected cumulative returns at 30 years for the 10th, 50th, and 90th percentiles?"
   ]
  },
  {
   "cell_type": "code",
   "execution_count": 18,
   "metadata": {},
   "outputs": [
    {
     "data": {
      "text/plain": [
       "(119.02748490144204, 199.0838571716875, 320.56154856359194)"
      ]
     },
     "execution_count": 18,
     "metadata": {},
     "output_type": "execute_result"
    }
   ],
   "source": [
    "# Compute cumulative returns\n",
    "end_cum_returns = portfolio_cum_returns.iloc[-1, :]\n",
    "\n",
    "# use quantile to calculate 10th percentile and 90th percentile\n",
    "(cumulative_returns10th, cumulative_returns90th) = end_cum_returns.quantile(q=[0.10, 0.90])\n",
    "\n",
    "# use quantile to calculate 50th percenile\n",
    "cumulative_returns50th = end_cum_returns.quantile(q=[0.50, 0.50]).iloc[0]\n",
    "\n",
    "# spot check cumulative returns values\n",
    "cumulative_returns10th, cumulative_returns50th, cumulative_returns90th"
   ]
  },
  {
   "cell_type": "markdown",
   "metadata": {},
   "source": [
    "### Given an initial investment of `$20,000`, what is the expected portfolio return in dollars at the 10th, 50th, and 90th percentiles?"
   ]
  },
  {
   "cell_type": "code",
   "execution_count": 19,
   "metadata": {},
   "outputs": [
    {
     "name": "stdout",
     "output_type": "stream",
     "text": [
      "Given a starting investment of 20000,\n",
      "The expected return at the 10th percentile is $2380549.70,\n",
      "The expected return at the 50th percentile is $3981677.14,\n",
      "The expected return at the 90th percentile is $6411230.97.\n",
      "\n"
     ]
    }
   ],
   "source": [
    "# Set initial investment\n",
    "initial_investment = 20000\n",
    "\n",
    "\n",
    "# Compute expected portfolio return\n",
    "# calculate portfolio return range in dollars for 10th, 50th, and 90th percentile\n",
    "portfolio_return10 = initial_investment * cumulative_returns10th\n",
    "portfolio_return50 = initial_investment * cumulative_returns50th\n",
    "portfolio_return90 = initial_investment * cumulative_returns90th\n",
    "\n",
    "# format portfolio returns to two decimal places to represent USD\n",
    "formatted_portfolio_return10 = \"{:.2f}\".format(portfolio_return10)\n",
    "formatted_portfolio_return50 = \"{:.2f}\".format(portfolio_return50)\n",
    "formatted_portfolio_return90 = \"{:.2f}\".format(portfolio_return90)\n",
    "\n",
    "#print results for 10th, 50th, and 90th percentile returns\n",
    "print(f'Given a starting investment of {initial_investment},\\r\\n'\n",
    "      f'The expected return at the 10th percentile is ${formatted_portfolio_return10},\\r\\n'\n",
    "      f'The expected return at the 50th percentile is ${formatted_portfolio_return50},\\r\\n'\n",
    "      f'The expected return at the 90th percentile is ${formatted_portfolio_return90}.\\r\\n')\n"
   ]
  },
  {
   "cell_type": "markdown",
   "metadata": {},
   "source": [
    "### Given the current projected annual income from the Plaid analysis, will a 4% withdraw rate from the retirement portfolio meet or exceed that value at the 10th percentile?\n",
    "\n",
    "Note: This is effectively saying that 90% of the expected returns will be greater than the return at the 10th percentile, so this can help measure the uncertainty about having enough funds at retirement"
   ]
  },
  {
   "cell_type": "code",
   "execution_count": 20,
   "metadata": {},
   "outputs": [
    {
     "name": "stdout",
     "output_type": "stream",
     "text": [
      "Based on 10th percentile return of $2380549.70,\n",
      "Does 4% retirement withdrawl ($95221.99) meet/exceed current projected annual income ($6085)? True\n"
     ]
    }
   ],
   "source": [
    "# Set Plaid's projected income\n",
    "projected_income = 6085\n",
    "\n",
    "# Calculate the 4% withdrawal for the ending return as retirement income\n",
    "retirement_withdrawl_pct = 0.04\n",
    "retirement_withdrawl = portfolio_return10 * retirement_withdrawl_pct\n",
    "\n",
    "# format retirement_withdrawl for USD - display only\n",
    "formatted_retirement_withdrawl = \"{:.2f}\".format(retirement_withdrawl)\n",
    "\n",
    "# Determine if the retirement income meets or exceeds the current projected income\n",
    "print(f'Based on 10th percentile return of ${formatted_portfolio_return10},\\r\\n'\n",
    "      f'Does 4% retirement withdrawl (${formatted_retirement_withdrawl}) meet/exceed current projected annual income (${projected_income})? {retirement_withdrawl_pct >= retirement_withdrawl_pct}')\n",
    "# Calculate the 4% withdrawal for the ending return as retirement income\n",
    "\n",
    "# Determine if the retirement income meets or exceeds the current projected income\n"
   ]
  },
  {
   "cell_type": "markdown",
   "metadata": {},
   "source": [
    "### How would a 50% increase in the initial investment amount affect the 4% retirement withdrawal?"
   ]
  },
  {
   "cell_type": "code",
   "execution_count": 21,
   "metadata": {},
   "outputs": [
    {
     "name": "stdout",
     "output_type": "stream",
     "text": [
      "Updating the initial investment from $20000 to $30000 increases the 4% retirement income from $95221.99 to $142832.98.\n",
      "This is an additional $47610.99.\n"
     ]
    }
   ],
   "source": [
    "# Re-calculate the retirement income with a 50% increase in the initial investment amount\n",
    "bigger_initial_investment = 30000\n",
    "\n",
    "# Compute expected portfolio return\n",
    "# calculate portfolio return range in dollars for 10th percentile\n",
    "new_portfolio_return10 = bigger_initial_investment * cumulative_returns10th\n",
    "\n",
    "# Calculate the 4% withdrawal for the ending return as retirement income\n",
    "new_retirement_withdrawl = new_portfolio_return10 * retirement_withdrawl_pct\n",
    "\n",
    "# format retirement_withdrawl variables for USD - used for display only\n",
    "formatted_new_retirement_withdrawl = \"{:.2f}\".format(new_retirement_withdrawl)\n",
    "formatted_retirement_diff = \"{:.2f}\".format(new_retirement_withdrawl - retirement_withdrawl)\n",
    "\n",
    "# Determine if the retirement income meets or exceeds the current projected income\n",
    "#print(f'Based on 10th percentile (${formatted_new_retirement_withdrawl}) does 4% retirement withdrawl meet/exceed current projected annual income (${projected_income})? {retirement_withdrawl_pct >= retirement_withdrawl_pct}')\n",
    "print(f'Updating the initial investment from ${initial_investment} to ${bigger_initial_investment} increases the 4% retirement income from ${formatted_retirement_withdrawl} to ${formatted_new_retirement_withdrawl}.\\r\\n'\n",
    "     f'This is an additional ${formatted_retirement_diff}.')\n"
   ]
  },
  {
   "cell_type": "markdown",
   "metadata": {},
   "source": [
    "### Optional Challenge\n",
    "\n",
    "Use the Monte Carlo data and calculate the cumulative returns at the `5%`, `50%`, and `95%` quartiles and plot this data as a line chart to see how the cumulative returns change over the life of the investment.\n",
    "\n",
    "In this section, you need to calculate and plot the cumulative returns for the median and `90%` confidence intervals. This plot shows the expected cumulative returns for any given day between the first day and the last day of investment. "
   ]
  },
  {
   "cell_type": "code",
   "execution_count": 22,
   "metadata": {},
   "outputs": [
    {
     "data": {
      "text/html": [
       "<div>\n",
       "<style scoped>\n",
       "    .dataframe tbody tr th:only-of-type {\n",
       "        vertical-align: middle;\n",
       "    }\n",
       "\n",
       "    .dataframe tbody tr th {\n",
       "        vertical-align: top;\n",
       "    }\n",
       "\n",
       "    .dataframe thead th {\n",
       "        text-align: right;\n",
       "    }\n",
       "</style>\n",
       "<table border=\"1\" class=\"dataframe\">\n",
       "  <thead>\n",
       "    <tr style=\"text-align: right;\">\n",
       "      <th></th>\n",
       "      <th>0.05</th>\n",
       "      <th>0.50</th>\n",
       "      <th>0.95</th>\n",
       "    </tr>\n",
       "  </thead>\n",
       "  <tbody>\n",
       "    <tr>\n",
       "      <th>7556</th>\n",
       "      <td>103.646181</td>\n",
       "      <td>198.046067</td>\n",
       "      <td>382.125745</td>\n",
       "    </tr>\n",
       "    <tr>\n",
       "      <th>7557</th>\n",
       "      <td>103.048930</td>\n",
       "      <td>198.571688</td>\n",
       "      <td>381.218333</td>\n",
       "    </tr>\n",
       "    <tr>\n",
       "      <th>7558</th>\n",
       "      <td>103.123992</td>\n",
       "      <td>198.582408</td>\n",
       "      <td>380.240758</td>\n",
       "    </tr>\n",
       "    <tr>\n",
       "      <th>7559</th>\n",
       "      <td>102.888323</td>\n",
       "      <td>199.404147</td>\n",
       "      <td>379.940198</td>\n",
       "    </tr>\n",
       "    <tr>\n",
       "      <th>7560</th>\n",
       "      <td>102.825606</td>\n",
       "      <td>199.083857</td>\n",
       "      <td>379.341808</td>\n",
       "    </tr>\n",
       "  </tbody>\n",
       "</table>\n",
       "</div>"
      ],
      "text/plain": [
       "            0.05        0.50        0.95\n",
       "7556  103.646181  198.046067  382.125745\n",
       "7557  103.048930  198.571688  381.218333\n",
       "7558  103.123992  198.582408  380.240758\n",
       "7559  102.888323  199.404147  379.940198\n",
       "7560  102.825606  199.083857  379.341808"
      ]
     },
     "execution_count": 22,
     "metadata": {},
     "output_type": "execute_result"
    }
   ],
   "source": [
    "# Compute projected returns\n",
    "# Initialize df for portfolio percentile (5,50,95) cumulative returns\n",
    "portfolio_projected_cum_returns = pd.DataFrame()\n",
    "\n",
    "# set the intervals with quantile function\n",
    "confidence90 = portfolio_cum_returns.quantile(axis=1,q=[0.05, 0.95])\n",
    "confidence50 = portfolio_cum_returns.quantile(axis=1,q=[0.5, 0.5])\n",
    "\n",
    "# assign 5,50,95 quantile returns to portfolio_projected_cum_returns columns\n",
    "portfolio_projected_cum_returns['0.05'] = confidence90.iloc[0]\n",
    "portfolio_projected_cum_returns['0.50'] = confidence50.iloc[0]\n",
    "portfolio_projected_cum_returns['0.95'] = confidence90.iloc[1]\n",
    "\n",
    "\n",
    "# Display sample data\n",
    "portfolio_projected_cum_returns.tail()"
   ]
  },
  {
   "cell_type": "code",
   "execution_count": 23,
   "metadata": {},
   "outputs": [
    {
     "data": {
      "text/plain": [
       "<matplotlib.axes._subplots.AxesSubplot at 0x1e41a91da48>"
      ]
     },
     "execution_count": 23,
     "metadata": {},
     "output_type": "execute_result"
    },
    {
     "data": {
      "image/png": "[encoded data removed]",
      "text/plain": [
       "<Figure size 432x288 with 1 Axes>"
      ]
     },
     "metadata": {
      "needs_background": "light"
     },
     "output_type": "display_data"
    }
   ],
   "source": [
    "# Plot the cumulative returns over time\n",
    "portfolio_projected_cum_returns.plot(title='Cumulative Returns Over Time',xlim=(0,7500))"
   ]
  },
  {
   "cell_type": "code",
   "execution_count": 24,
   "metadata": {},
   "outputs": [
    {
     "data": {
      "text/plain": [
       "<matplotlib.axes._subplots.AxesSubplot at 0x1e41d924788>"
      ]
     },
     "execution_count": 24,
     "metadata": {},
     "output_type": "execute_result"
    },
    {
     "data": {
      "image/png": "[encoded data removed]",
      "text/plain": [
       "<Figure size 432x288 with 1 Axes>"
      ]
     },
     "metadata": {
      "needs_background": "light"
     },
     "output_type": "display_data"
    }
   ],
   "source": [
    "# Compute portfolio performance over time\n",
    "# set initial investment\n",
    "initial_investment = 20000\n",
    "\n",
    "portfolio_projected_cum_pnl = initial_investment * portfolio_projected_cum_returns \n",
    "\n",
    "# Plot projected performance over time\n",
    "portfolio_projected_cum_pnl.plot(title='Portfolio Performance Over Time',xlim=(0,7500))"
   ]
  }
 ],
 "metadata": {
  "kernelspec": {
   "display_name": "Python [conda env:dev]",
   "language": "python",
   "name": "conda-env-dev-py"
  },
  "language_info": {
   "codemirror_mode": {
    "name": "ipython",
    "version": 3
   },
   "file_extension": ".py",
   "mimetype": "text/x-python",
   "name": "python",
   "nbconvert_exporter": "python",
   "pygments_lexer": "ipython3",
   "version": "3.7.7"
  }
 },
 "nbformat": 4,
 "nbformat_minor": 4
}
